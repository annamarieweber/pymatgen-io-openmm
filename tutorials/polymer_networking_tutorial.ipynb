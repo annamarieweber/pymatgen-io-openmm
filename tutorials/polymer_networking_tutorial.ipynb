{
 "cells": [
  {
   "cell_type": "code",
   "execution_count": 17,
   "metadata": {},
   "outputs": [
    {
     "name": "stdout",
     "output_type": "stream",
     "text": [
      "The autoreload extension is already loaded. To reload it, use:\n",
      "  %reload_ext autoreload\n"
     ]
    }
   ],
   "source": [
    "from pymatgen.io.openmm.alchemy_utils import AlchemicalReaction\n",
    "from pymatgen.io.openmm.generators import OpenMMAlchemyGen\n",
    "from pymatgen.io.openmm.simulations import react_system\n",
    "\n",
    "import openff.toolkit as tk\n",
    "\n",
    "%load_ext autoreload\n",
    "\n",
    "%autoreload 2"
   ]
  },
  {
   "cell_type": "code",
   "execution_count": 9,
   "metadata": {},
   "outputs": [],
   "source": [
    "select_dict = {\n",
    "    \"acetic_acid_O\": \"smarts CC(=O)O and smarts C-O and element O\",\n",
    "    \"acetic_acid_H\": \"smarts CC(=O)O[H] and smarts [OX2][H] and element H\",\n",
    "    \"acetic_acid_C\": \"smarts CC(=O)O and smarts C=O and element C\",\n",
    "    \"ethanol_O\": \"smarts [CH3][CH2]O and element O\",\n",
    "    \"ethanol_H\": \"smarts [CH3][CH2]O[H] and smarts [OX2][H] and element H\",\n",
    "}\n",
    "create_bonds = [(\"acetic_acid_C\", \"ethanol_O\"), (\"acetic_acid_O\", \"ethanol_H\")]\n",
    "delete_bonds = [(\"ethanol_O\", \"ethanol_H\"), (\"acetic_acid_O\", \"acetic_acid_C\")]\n",
    "\n",
    "acetic_rxn =  AlchemicalReaction(\n",
    "    select_dict=select_dict,\n",
    "    create_bonds=create_bonds,\n",
    "    delete_bonds=delete_bonds,\n",
    ")"
   ]
  },
  {
   "cell_type": "code",
   "execution_count": 13,
   "metadata": {},
   "outputs": [
    {
     "name": "stderr",
     "output_type": "stream",
     "text": [
      "/Users/orioncohen/projects/development/openmm-io/pymatgen-io-openmm/pymatgen/io/openmm/alchemy_utils.py:248: SettingWithCopyWarning: \n",
      "A value is trying to be set on a copy of a slice from a DataFrame.\n",
      "Try using .loc[row_indexer,col_indexer] = value instead\n",
      "\n",
      "See the caveats in the documentation: https://pandas.pydata.org/pandas-docs/stable/user_guide/indexing.html#returning-a-view-versus-a-copy\n",
      "  atoms_df[\"trigger_ix\"] = ix\n",
      "/Users/orioncohen/projects/development/openmm-io/pymatgen-io-openmm/pymatgen/io/openmm/alchemy_utils.py:248: SettingWithCopyWarning: \n",
      "A value is trying to be set on a copy of a slice from a DataFrame.\n",
      "Try using .loc[row_indexer,col_indexer] = value instead\n",
      "\n",
      "See the caveats in the documentation: https://pandas.pydata.org/pandas-docs/stable/user_guide/indexing.html#returning-a-view-versus-a-copy\n",
      "  atoms_df[\"trigger_ix\"] = ix\n",
      "/Users/orioncohen/projects/development/openmm-io/pymatgen-io-openmm/pymatgen/io/openmm/alchemy_utils.py:299: FutureWarning: In a future version of pandas, a length 1 tuple will be returned when iterating over a groupby with a grouper equal to a list of length 1. Don't supply a list with a single grouper to avoid this warning.\n",
      "  for res_ix, res_df in trig_df.groupby([\"res_ix\"]):\n",
      "/Users/orioncohen/projects/development/openmm-io/pymatgen-io-openmm/pymatgen/io/openmm/alchemy_utils.py:327: FutureWarning: In a future version of pandas, a length 1 tuple will be returned when iterating over a groupby with a grouper equal to a list of length 1. Don't supply a list with a single grouper to avoid this warning.\n",
      "  for trigger_ix, atoms_df in all_atoms_df.groupby([\"trigger_ix\"]):\n"
     ]
    },
    {
     "data": {
      "image/png": "[encoded data removed]",
      "text/plain": [
       "<rdkit.Chem.rdchem.Mol at 0x19f599b80>"
      ]
     },
     "execution_count": 13,
     "metadata": {},
     "output_type": "execute_result"
    }
   ],
   "source": [
    "openff_mols = [tk.Molecule.from_smiles(smile) for smile in [\"O\", \"CCO\", \"CC(=O)O\"]]\n",
    "\n",
    "acetic_rxn.visualize_reaction(openff_mols, 'viz.png')"
   ]
  },
  {
   "cell_type": "code",
   "execution_count": 16,
   "metadata": {},
   "outputs": [
    {
     "name": "stderr",
     "output_type": "stream",
     "text": [
      "/Users/orioncohen/projects/development/openmm-io/pymatgen-io-openmm/pymatgen/io/openmm/alchemy_utils.py:248: SettingWithCopyWarning: \n",
      "A value is trying to be set on a copy of a slice from a DataFrame.\n",
      "Try using .loc[row_indexer,col_indexer] = value instead\n",
      "\n",
      "See the caveats in the documentation: https://pandas.pydata.org/pandas-docs/stable/user_guide/indexing.html#returning-a-view-versus-a-copy\n",
      "  atoms_df[\"trigger_ix\"] = ix\n",
      "/Users/orioncohen/projects/development/openmm-io/pymatgen-io-openmm/pymatgen/io/openmm/alchemy_utils.py:248: SettingWithCopyWarning: \n",
      "A value is trying to be set on a copy of a slice from a DataFrame.\n",
      "Try using .loc[row_indexer,col_indexer] = value instead\n",
      "\n",
      "See the caveats in the documentation: https://pandas.pydata.org/pandas-docs/stable/user_guide/indexing.html#returning-a-view-versus-a-copy\n",
      "  atoms_df[\"trigger_ix\"] = ix\n",
      "/Users/orioncohen/projects/development/openmm-io/pymatgen-io-openmm/pymatgen/io/openmm/alchemy_utils.py:299: FutureWarning: In a future version of pandas, a length 1 tuple will be returned when iterating over a groupby with a grouper equal to a list of length 1. Don't supply a list with a single grouper to avoid this warning.\n",
      "  for res_ix, res_df in trig_df.groupby([\"res_ix\"]):\n",
      "/Users/orioncohen/projects/development/openmm-io/pymatgen-io-openmm/pymatgen/io/openmm/alchemy_utils.py:327: FutureWarning: In a future version of pandas, a length 1 tuple will be returned when iterating over a groupby with a grouper equal to a list of length 1. Don't supply a list with a single grouper to avoid this warning.\n",
      "  for trigger_ix, atoms_df in all_atoms_df.groupby([\"trigger_ix\"]):\n"
     ]
    }
   ],
   "source": [
    "generator = OpenMMAlchemyGen(default_force_field=\"sage\")\n",
    "\n",
    "input_mol_dicts = [\n",
    "    {\"smile\": \"O\", \"count\": 50},\n",
    "    {\"smile\": \"CCO\", \"count\": 50},\n",
    "    {\"smile\": \"CC(=O)O\", \"count\": 50},\n",
    "]\n",
    "\n",
    "input_set = generator.get_input_set(\n",
    "    input_mol_dicts,\n",
    "    reactions=[acetic_rxn],\n",
    "    density=1,\n",
    ")"
   ]
  },
  {
   "cell_type": "code",
   "execution_count": 18,
   "metadata": {},
   "outputs": [],
   "source": [
    "output_set = react_system(input_set, 3, 500)"
   ]
  },
  {
   "cell_type": "code",
   "execution_count": 24,
   "metadata": {},
   "outputs": [
    {
     "data": {
      "text/plain": [
       "['[H][O][H]',\n",
       " '[H][C]([H])([H])[C](=[O])[O][C]([H])([H])[C]([H])([H])[H]',\n",
       " '[H][O][C]([H])([H])[C]([H])([H])[H]',\n",
       " '[H][O][C](=[O])[C]([H])([H])[H]']"
      ]
     },
     "execution_count": 24,
     "metadata": {},
     "output_type": "execute_result"
    }
   ],
   "source": [
    "topology = output_set.inputs['reactive_system.json'].msonable.generate_topology()\n",
    "\n",
    "unique_mols = [mol.to_smiles() for mol in topology.unique_molecules]\n",
    "\n",
    "unique_mols"
   ]
  }
 ],
 "metadata": {
  "kernelspec": {
   "display_name": "pymatgen-openmm",
   "language": "python",
   "name": "pymatgen-openmm"
  },
  "language_info": {
   "codemirror_mode": {
    "name": "ipython",
    "version": 3
   },
   "file_extension": ".py",
   "mimetype": "text/x-python",
   "name": "python",
   "nbconvert_exporter": "python",
   "pygments_lexer": "ipython3",
   "version": "3.9.16"
  }
 },
 "nbformat": 4,
 "nbformat_minor": 1
}
