{
 "cells": [
  {
   "cell_type": "code",
   "execution_count": 1,
   "metadata": {
    "pycharm": {
     "is_executing": true
    }
   },
   "outputs": [],
   "source": [
    "from pymatgen.io.openmm.generators import OpenMMSolutionGen\n",
    "import numpy as np\n",
    "\n",
    "%load_ext autoreload\n",
    "%autoreload 2"
   ]
  },
  {
   "cell_type": "markdown",
   "metadata": {},
   "source": [
    "### Generators\n",
    "\n",
    "A pymatgen InputSet contains all of the files needed to set up and run a simulation. Writing those files by hand would be incredibly tedious, so we use a Generator to create the InputSet. The Generator is instantiated with simulation properties as input, like temperature and force field. Once it is created, it can generated many InputSets with different sets of molecules."
   ]
  },
  {
   "cell_type": "code",
   "execution_count": 3,
   "metadata": {},
   "outputs": [],
   "source": [
    "generator = OpenMMSolutionGen(\n",
    "    default_force_field=\"sage\",\n",
    "    temperature= 298,\n",
    "    step_size= 0.001,\n",
    "    default_charge_method= \"am1bcc\",\n",
    ")"
   ]
  },
  {
   "cell_type": "markdown",
   "metadata": {},
   "source": [
    "All of the keywords above are just the defaults, we could also simply call:"
   ]
  },
  {
   "cell_type": "code",
   "execution_count": 4,
   "metadata": {},
   "outputs": [],
   "source": [
    "generator = OpenMMSolutionGen()"
   ]
  },
  {
   "cell_type": "markdown",
   "metadata": {},
   "source": [
    "### Input Set\n",
    "\n",
    "An InputSet is created by calling `generator.get_input_set()` and providing dicts defining each molecule and the density of the solution.Below we show a bare minimum example of what that can look like."
   ]
  },
  {
   "cell_type": "code",
   "execution_count": 5,
   "metadata": {},
   "outputs": [],
   "source": [
    "input_mol_dicts = [\n",
    "    {\"smile\": \"O\", \"count\": 200},\n",
    "    {\"smile\": \"CCO\", \"count\": 20},\n",
    "]\n",
    "\n",
    "input_set = generator.get_input_set(input_mol_dicts, density=1)"
   ]
  },
  {
   "cell_type": "markdown",
   "metadata": {},
   "source": [
    "As you can see, the input_mol_dicts is a list of dictionaries, each dictionary must include a `smile` and `count` but there a number of optional keywords. Let's use the `name`, `charge_scaling`, `geometries`, and `partial_charges` keywords to create a new, more customized solution."
   ]
  },
  {
   "cell_type": "code",
   "execution_count": 6,
   "metadata": {},
   "outputs": [],
   "source": [
    "from pymatgen.io.openmm.tests.datafiles import PF6_charges, PF6_xyz\n",
    "\n",
    "pf6_charge_array = np.load(PF6_charges)\n",
    "\n",
    "input_mol_dicts = [\n",
    "    {\n",
    "        \"smile\": \"C1COC(=O)O1\",\n",
    "        \"count\": 100,\n",
    "        \"name\": \"EC\",  # this name is used for all downstream references\n",
    "    },\n",
    "    {\n",
    "        \"smile\": \"[Li+]\",\n",
    "        \"count\": 10,\n",
    "        \"charge_scaling\": 0.8,  # this will scale the charges to 0.8 of their normal value\n",
    "    },\n",
    "    {\n",
    "        \"smile\": \"F[P-](F)(F)(F)(F)F\",\n",
    "        \"count\": 10,\n",
    "        \"charge_scaling\": 0.8,\n",
    "        \"geometries\": [PF6_xyz],  # we can supply our own initial geometries\n",
    "        \"partial_charges\": pf6_charge_array,  # the order of charges MUST MATCH the order of charges in the geometries\n",
    "    },\n",
    "]"
   ]
  },
  {
   "cell_type": "markdown",
   "metadata": {},
   "source": [
    "For a complete definition of the input_mol_dict specification and options, see `pymatgen.io.openmm.schema.InputMoleculeSpec`."
   ]
  },
  {
   "cell_type": "code",
   "execution_count": 7,
   "metadata": {},
   "outputs": [
    {
     "name": "stderr",
     "output_type": "stream",
     "text": [
      "[08:48:41] *****: Warning - no explicit hydrogens in mol2 file but needed for formal charge estimation.\n"
     ]
    }
   ],
   "source": [
    "input_set = generator.get_input_set(input_mol_dicts, density=1)"
   ]
  }
 ],
 "metadata": {
  "kernelspec": {
   "display_name": "pymatgen-openmm",
   "language": "python",
   "name": "pymatgen-openmm"
  },
  "language_info": {
   "codemirror_mode": {
    "name": "ipython",
    "version": 3
   },
   "file_extension": ".py",
   "mimetype": "text/x-python",
   "name": "python",
   "nbconvert_exporter": "python",
   "pygments_lexer": "ipython3",
   "version": "3.9.16"
  }
 },
 "nbformat": 4,
 "nbformat_minor": 1
}
